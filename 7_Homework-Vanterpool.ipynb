{
  "metadata": {
    "language_info": {
      "codemirror_mode": {
        "name": "python",
        "version": 3
      },
      "file_extension": ".py",
      "mimetype": "text/x-python",
      "name": "python",
      "nbconvert_exporter": "python",
      "pygments_lexer": "ipython3",
      "version": "3.8"
    },
    "kernelspec": {
      "name": "python",
      "display_name": "Python (Pyodide)",
      "language": "python"
    }
  },
  "nbformat_minor": 4,
  "nbformat": 4,
  "cells": [
    {
      "cell_type": "markdown",
      "source": "**1. What does one need to do to use a module?** \n\n-  Use the import statement\n\n**2. Name a Module (not the DateTime Nodule) we looked at and write a line or 2 of code as an example using this module.**\n\n- Math Module\n- import math as mp\n- print(mp.sqrt(3.14))\n\n**3. What is a benefit of using Exception handling?**\n\n- The benefit is you can test code and it will run the code past any errors.\n\n**4. NumPy arrays are like what Python data type?**\n\n- List or a lsit within a list\n\n**5. What is one of the main benefits of using NumPy arrays.**\n\n- Uses less memory\n\n**6. What is one of the main requirements about the 'dtype' of NumPy arrays?**\n\n- Data type must be the dame\n\n**7. Of the 10 uses of NumPy, name 2.**\n\n- Statistics, sorting, and counting\n\n**8. Name one of the other libraries we will use with NumPy?**\n\n- Panda\n\n**9. What is the shape of NumPy arrays?**\n\n- dimension is the length and size of each array\n\n**10. What is a Tensor?**\n\n- An array with three dimensions\n\n**11. Name a reason why it is better using NumPy for Data Analysis than using a Python List?**\n\n- Consumes less memory\n\n**12. When creating an \"empty\" array, where do the elements come from?**\n\n- Contents are random and depends on size of memory\n\n**13. What does Pandas stand for?**\n\n- Panel Data\n\n**14. What are the 2 collections used in Pandas?**\n\n- Dataframes and series I guess\n\n**15. Name 4 things Pandas can do for us.**\n\n- Data cleansing\n- Statistical analysis\n- Data visualization\n- Merges and joins\n\n**16. To permanently sort a DataFrame, which keyword should one use with the df.sort() method?**\n\n- inplace = True\n\n**17. What is a CSV?**\n\n- A plain text file separated by commas\n\n**18. When cleaning data what values do we not like in our data?**\n\n- Null Values\n",
      "metadata": {}
    },
    {
      "cell_type": "code",
      "source": "import math as mp\nprint(mp.sqrt(3.14))",
      "metadata": {
        "trusted": true
      },
      "execution_count": 6,
      "outputs": [
        {
          "name": "stdout",
          "text": "1.772004514666935\n",
          "output_type": "stream"
        }
      ]
    },
    {
      "cell_type": "code",
      "source": "import numpy as np\n# Arrays\narraya = ([[25, 16]])\narrayb = ([[11, 2], [13, 4]])\narrayc = ([[7, 81], [5, 6], [11, 12]])\n\n# 1. Concatenate arrays\nnewArray = np.concatenate((arraya, arrayb, arrayc),)\nprint(newArray)\n\n# 2.Sort 'newArray' in order into 'sortedArray'\nsortedArray = np.sort(newArray)\nprint(sortedArray)\n\n# 3. Reshape the 'sortedArray' array, into a new array called 'reshapedArray', so it has 2 dimensions with a size of 2, 3.\nreshapedArray = sortedArray.reshape(2,2,3)\nprint(reshapedArray)\n\n\n",
      "metadata": {
        "trusted": true
      },
      "execution_count": null,
      "outputs": []
    },
    {
      "cell_type": "code",
      "source": "# 4. Unpack the array tuples from the above 'reshapedArray' into 4 well named variables. Print the 4 variables.\n\nTup1, Tup2 = reshapedArray\n\na, b = Tup1\nc, d = Tup2\n\nprint(a)\nprint(b)\nprint(c)\nprint(d)\n#5. Combine and sort the following arrays into one called 'comboArray' ...\n\nimport numpy as np\n\none = np.array([10, 11, 12, 13, 14, 15, 16, 17])\ntwo = np.array([20, 21, 22, 23, 24, 25, 26, 27])\nthree = np.array([ 0, 1, 2, 3, 4, 5, 6, 7])\n\ncomboArray = np.concatenate(((one, two, three)))\ncomboArray2 = np.sort(comboArray)\nprint(comboArray2)",
      "metadata": {
        "trusted": true
      },
      "execution_count": 28,
      "outputs": [
        {
          "name": "stdout",
          "text": "[16 25  2]\n[11  4 13]\n[ 7 81  5]\n[ 6 11 12]\n[ 0  1  2  3  4  5  6  7 10 11 12 13 14 15 16 17 20 21 22 23 24 25 26 27]\n",
          "output_type": "stream"
        }
      ]
    },
    {
      "cell_type": "code",
      "source": "#6Take 'comboArray' and perform the following slicing activities:\n        # print sec1 - the 2nd element\n        # print sec2 - all elements from the 3rd element to the last\n        # print sec3 - all elements from the 4th to the 14th elements\n        # print sec4 - the last 6 elements\n        # print sec5 - all element from #0 up to and including #15, using the negative number method, \n                # i.e. taking a section from the end.\n        # print sec6 - from #20 every even element to the end\n        # print sec7 - from the last element moving forward, every 5th element.\n        \nprint(len(comboArray2))\n\nsec1 = comboArray2[2]\nprint(sec1)\n\nsec2 = comboArray2[3:24]\nprint(sec2)\n\nsec3 = comboArray2[4:15]\nprint(sec3)\n\nsec4 = comboArray2[-6:]\nprint(sec4)\n\nsec5 = (comboArray2[-24:-10])\nprint(sec5)\n\nsec6 = comboArray2[16:25:2]\nprint(sec6)\n\nsec7 = comboArray2[::-5]\nprint(sec7)",
      "metadata": {
        "trusted": true
      },
      "execution_count": 38,
      "outputs": [
        {
          "name": "stdout",
          "text": "24\n2\n[ 3  4  5  6  7 10 11 12 13 14 15 16 17 20 21 22 23 24 25 26 27]\n[ 4  5  6  7 10 11 12 13 14 15 16]\n[22 23 24 25 26 27]\n[ 0  1  2  3  4  5  6  7 10 11 12 13 14 15]\n[20 22 24 26]\n[27 22 15 10  3]\n",
          "output_type": "stream"
        }
      ]
    },
    {
      "cell_type": "code",
      "source": "# 7. Using simple math operations, broadcast the addition (+), division (/), and multiplication (*) operations for these 2 arrays --\n\nimport numpy as np\n\nArray1 = np.array([[[ 0.0,  0.0,  0.10], [10.0, 10.30, 10.01]],\n        [[20.0, 20.02, 20.10], [30.0, 31.0, 30.30]],\n        [[40.40, 24.0, 40.0], [15.0, 15.5, 25.5]]])\n\nArray2 = np.array([[17.0, 70.0, 10.7]])\n\nAddition = np.add(Array1, Array2)\nprint(Addition)\n\nDivision = np.divide(Array1, Array2)\nprint(Division)\n\nMultiplication = np.multiply(Array1, Array2)\nprint(Multiplication)\n# 8. Use the NumPy Arithmetic functions to do the subtraction of the above two arrays in point #7.\n\nSubtraction = np.subtract(Array1, Array2)\nprint(Subtraction)\n\n# 9. Using modulo find all elements that are divisible by 3 from the multi-dimensional array under point #7 above.\n\nDivisible3 = Array1[Array1 % 3 == 0]\nprint(Divisible3)\n",
      "metadata": {
        "trusted": true
      },
      "execution_count": 42,
      "outputs": [
        {
          "name": "stdout",
          "text": "[[[ 17.    70.    10.8 ]\n  [ 27.    80.3   20.71]]\n\n [[ 37.    90.02  30.8 ]\n  [ 47.   101.    41.  ]]\n\n [[ 57.4   94.    50.7 ]\n  [ 32.    85.5   36.2 ]]]\n[[[0.         0.         0.00934579]\n  [0.58823529 0.14714286 0.93551402]]\n\n [[1.17647059 0.286      1.87850467]\n  [1.76470588 0.44285714 2.8317757 ]]\n\n [[2.37647059 0.34285714 3.73831776]\n  [0.88235294 0.22142857 2.38317757]]]\n[[[0.00000e+00 0.00000e+00 1.07000e+00]\n  [1.70000e+02 7.21000e+02 1.07107e+02]]\n\n [[3.40000e+02 1.40140e+03 2.15070e+02]\n  [5.10000e+02 2.17000e+03 3.24210e+02]]\n\n [[6.86800e+02 1.68000e+03 4.28000e+02]\n  [2.55000e+02 1.08500e+03 2.72850e+02]]]\n[[[-17.   -70.   -10.6 ]\n  [ -7.   -59.7   -0.69]]\n\n [[  3.   -49.98   9.4 ]\n  [ 13.   -39.    19.6 ]]\n\n [[ 23.4  -46.    29.3 ]\n  [ -2.   -54.5   14.8 ]]]\n[ 0.  0. 30. 24. 15.]\n",
          "output_type": "stream"
        }
      ]
    },
    {
      "cell_type": "code",
      "source": "# 10. Using Series, create a DataFrame that looks like this:\n#Ingredients\tQuantity\tUnit\n#Flour\t4\tcups\n#Milk\t1\tcup\n#Eggs\t2\tlarge\n#Spam\t1\tcan\n#Name: Dinner, dtype: object\n\nimport pandas as pd\n\ningredients = pd.Series(['Flour', 'Milk', 'Eggs', 'Spam'], name= 'ingredients')\nquantity = pd.Series([4,1,2,1], name= 'quantity')\nunit = pd.Series(['cups', 'cup', 'large', 'can'], name= 'unit')\n\nindex_labels = [\"Index 1\", \"Index 2\", \"Index 3\", \"Index 4\"]\ningredients.index = index_labels\nquantity.index = index_labels\nunit.index = index_labels\n\nDinner = pd.concat([ingredients,quantity,unit], axis=1)\nprint(Dinner)\n",
      "metadata": {
        "trusted": true
      },
      "execution_count": 52,
      "outputs": [
        {
          "name": "stdout",
          "text": "        ingredients  quantity   unit\nIndex 1       Flour         4   cups\nIndex 2        Milk         1    cup\nIndex 3        Eggs         2  large\nIndex 4        Spam         1    can\n",
          "output_type": "stream"
        }
      ]
    },
    {
      "cell_type": "code",
      "source": "# 11. Take this data and create a DataFrame named studentData\n\nimport pandas as pd\n\ndata = {'Name': ['Jai', 'janusha', 'Gaurav', 'Anuj'],\n        'Height': [5.1, 6.2, 5.1, 5.2],\n        'Qualification': ['Msc', 'MA', 'Msc', 'Msc'],\n        'address': ['Delhi', 'Doha', 'Chennai', 'Dakhar'],\n        'Age': [21, 23, 24, 21],\n        'Pets': ['Dog', 'Bunny', 'Chinchilla', 'Parrot'],\n        'sport': ['Darts', 'Basketball', 'PaddleBoarding', 'Cricket']\n    }\n\nstudentData = pd.DataFrame(data)\nprint(studentData)\n\n# 12. Add a new column to the DataFrame with the following deserts: [\"ice cream\", \"Cashew Fudge\", \"waffels\", \"Carrot Halwa\"]\n\nstudentData.insert(7, \"Deserts\", [\"ice cream\", \"Cashew Fudge\", \"waffels\", \"Carrot Halwa\"], True)\nprint(\"\\n\", studentData)\n\n# 13. Sort the 'studentData' DataFrame in Ascending order -- Sorting by column 'Name' and then \"address\"\n\nstudentData.sort_values(by = ['Name'], inplace = True)\nprint(studentData)\n\nstudentData.sort_values(by = ['address'], inplace = True)\nprint(studentData)",
      "metadata": {
        "trusted": true
      },
      "execution_count": 60,
      "outputs": [
        {
          "name": "stdout",
          "text": "      Name  Height Qualification  address  Age        Pets           sport\n0      Jai     5.1           Msc    Delhi   21         Dog           Darts\n1  janusha     6.2            MA     Doha   23       Bunny      Basketball\n2   Gaurav     5.1           Msc  Chennai   24  Chinchilla  PaddleBoarding\n3     Anuj     5.2           Msc   Dakhar   21      Parrot         Cricket\n\n       Name  Height Qualification  address  Age        Pets           sport  \\\n0      Jai     5.1           Msc    Delhi   21         Dog           Darts   \n1  janusha     6.2            MA     Doha   23       Bunny      Basketball   \n2   Gaurav     5.1           Msc  Chennai   24  Chinchilla  PaddleBoarding   \n3     Anuj     5.2           Msc   Dakhar   21      Parrot         Cricket   \n\n        Deserts  \n0     ice cream  \n1  Cashew Fudge  \n2       waffels  \n3  Carrot Halwa  \n      Name  Height Qualification  address  Age        Pets           sport  \\\n3     Anuj     5.2           Msc   Dakhar   21      Parrot         Cricket   \n2   Gaurav     5.1           Msc  Chennai   24  Chinchilla  PaddleBoarding   \n0      Jai     5.1           Msc    Delhi   21         Dog           Darts   \n1  janusha     6.2            MA     Doha   23       Bunny      Basketball   \n\n        Deserts  \n3  Carrot Halwa  \n2       waffels  \n0     ice cream  \n1  Cashew Fudge  \n      Name  Height Qualification  address  Age        Pets           sport  \\\n2   Gaurav     5.1           Msc  Chennai   24  Chinchilla  PaddleBoarding   \n3     Anuj     5.2           Msc   Dakhar   21      Parrot         Cricket   \n0      Jai     5.1           Msc    Delhi   21         Dog           Darts   \n1  janusha     6.2            MA     Doha   23       Bunny      Basketball   \n\n        Deserts  \n2       waffels  \n3  Carrot Halwa  \n0     ice cream  \n1  Cashew Fudge  \n",
          "output_type": "stream"
        }
      ]
    },
    {
      "cell_type": "code",
      "source": "#14. Save this `DataFrame` here below to disc as a `.CSV` file with the name `cows_and_goats.csv`:\n\nimport pandas as pd\n\ndf = pd.DataFrame({'Cows': [12, 20], 'Goats': [22, 19]}, index=['Year 1', 'Year 2'])\n\ndf.to_csv('cows_and_goats.csv')\ndf_saved_file = pd.read_csv('cows_and_goats.csv')",
      "metadata": {
        "trusted": true
      },
      "execution_count": 85,
      "outputs": []
    },
    {
      "cell_type": "code",
      "source": "# 15. \n    # (A) Using Pandas, make your own .CSV file with data on vegetables and save it. \n    # (B) Using Pandas, make a change to your CSV file, and save a copy with a different name.\n    \nimport pandas as pd\n\ndf = pd.DataFrame({'Vegetables': ['tomatos', 'onion'], 'Vegetables2': ['squash','carrots']}, index=[1, 2])\n\ndf.to_csv('vegetables.csv')\ndf_saved_file = pd.read_csv('vegetables.csv')\n\ndf1 = df.replace(to_replace={'squash': 'spinach'})\nprint(df1)\n\ndf1.to_csv('newvegetables.csv')\ndf_saved_file = pd.read_csv('newvegetables.csv')",
      "metadata": {
        "trusted": true
      },
      "execution_count": 84,
      "outputs": [
        {
          "name": "stdout",
          "text": "  Vegetables Vegetables2\n1    tomatos     spinach\n2      onion     carrots\n",
          "output_type": "stream"
        }
      ]
    },
    {
      "cell_type": "code",
      "source": "",
      "metadata": {},
      "execution_count": null,
      "outputs": []
    }
  ]
}