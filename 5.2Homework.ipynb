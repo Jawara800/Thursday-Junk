{
  "metadata": {
    "language_info": {
      "codemirror_mode": {
        "name": "python",
        "version": 3
      },
      "file_extension": ".py",
      "mimetype": "text/x-python",
      "name": "python",
      "nbconvert_exporter": "python",
      "pygments_lexer": "ipython3",
      "version": "3.8"
    },
    "kernelspec": {
      "name": "python",
      "display_name": "Python (Pyodide)",
      "language": "python"
    }
  },
  "nbformat_minor": 4,
  "nbformat": 4,
  "cells": [
    {
      "cell_type": "markdown",
      "source": "1. a process or set of rules to be followed in calculations or other problem-solving operations\n2. When compiled, other languages turn into Assembly and run directly in the processor. Hence, being an interpreted language, which is not subject to the processor, makes Python a high-level programming language.\n3. Any one of the languages that people have designed for specific purposes, such as representing mathematical ideas or computer programs; all programming languages are formal languages.\n4. Back Slash, and forward slash.\n5. A logic error.\n6. Assume Nothing!\n7. False, def, if, raise, none.\n8. https://www.coursera.org/articles/what-is-python-used-for-a-beginners-guide-to-using-python\n",
      "metadata": {}
    },
    {
      "cell_type": "code",
      "source": "# My name is Jawara Vanterpool \n# My favorite food is a good steak\n# My dream job is to be a data analyst right now.\nx = \"cars, boats, planes\"\ny = 5.2 \nz = 2 + 5*y \na = {\"black, yellow, red\"}\nb = [\"lions, tigers, bears\"]\nprint(x)\nprint(\"index of s: \", x.index('s'))\nsavvy = \"Learning Data Analytics and Python is Great!\"\nprint(savvy[5:34])\nname, age, length = \"Jawara\", 28, 5.10\nminibio = {\"Hi my name is Jawara, I am so 5'10 and 28 years old today.\"}\nprint(minibio)\nfloat(age)           \n",
      "metadata": {
        "trusted": true
      },
      "execution_count": 23,
      "outputs": [
        {
          "name": "stdout",
          "text": "cars, boats, planes\nindex of s:  3\ning Data Analytics and Python\n{\"Hi my name is Jawara, I am so 5'10 and 28 years old today.\"}\n",
          "output_type": "stream"
        },
        {
          "execution_count": 23,
          "output_type": "execute_result",
          "data": {
            "text/plain": "28.0"
          },
          "metadata": {}
        }
      ]
    }
  ]
}