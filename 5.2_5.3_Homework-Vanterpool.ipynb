{
  "cells": [
    {
      "cell_type": "markdown",
      "metadata": {},
      "source": [
        "# 5.2 and 5.3 Homework\n",
        "1. A process or set of rules to be followed in calculations or other problem-solving operations\n",
        "2. When compiled, other languages turn into Assembly and run directly in the processor. Hence, being an interpreted language, which is not subject to the processor, makes Python a high-level programming language.\n",
        "3. Any one of the languages that people have designed for specific purposes, such as representing mathematical ideas or computer programs; all programming languages are formal languages.\n",
        "4. Back Slash, and forward slash.\n",
        "5. *A logic error.*\n",
        "6. ***Assume Nothing!***😂\n",
        "7. False, def, if, raise, none.\n",
        "8. https://www.coursera.org/articles/what-is-python-used-for-a-beginners-guide-to-using-python\n"
      ]
    },
    {
      "cell_type": "code",
      "execution_count": 77,
      "metadata": {
        "trusted": true
      },
      "outputs": [
        {
          "name": "stdout",
          "output_type": "stream",
          "text": [
            "cars, boats, planes\n",
            "index of s:  3\n",
            "ing Data Analytics and Python\n",
            "Hi my name is Jawara, I am 5.10 and 28 years old.  \n"
          ]
        },
        {
          "data": {
            "text/plain": [
              "28.0"
            ]
          },
          "execution_count": 77,
          "metadata": {},
          "output_type": "execute_result"
        }
      ],
      "source": [
        "# My name is Jawara Vanterpool \n",
        "# My favorite food is a good steak\n",
        "# My dream job is to be a data analyst right now.\n",
        "x = \"cars, boats, planes\"\n",
        "y = 5.2 \n",
        "z = 2 + 5*y \n",
        "a = {\"black, yellow, red\"}\n",
        "b = [\"lions, tigers, bears\"]\n",
        "print(x)\n",
        "print(\"index of s: \", x.index('s'))\n",
        "savvy = \"Learning Data Analytics and Python is Great!\"\n",
        "print(savvy[5:34])\n",
        "name, age, length = \"Jawara\", 28, '5.10'\n",
        "minibio = f'Hi my name is {name}, I am {length} and {age} years old.  '\n",
        "print(minibio)\n",
        "float(age)           \n"
      ]
    },
    {
      "cell_type": "code",
      "execution_count": 8,
      "metadata": {},
      "outputs": [
        {
          "name": "stdout",
          "output_type": "stream",
          "text": [
            "9\n",
            "['Bears', 'Tigers', (13, 14, 15), 12, False, (7, 8, 9), {10, 11, 12}, 96.85, 'Bread']\n"
          ]
        }
      ],
      "source": [
        "ReworkList1 = ['Lions', 12, False, (7,8,9), {10,11,12}, 96.85]\n",
        "ReworkList1[0:1] = \"Tigers\", (13,14,15)\n",
        "ReworkList1.insert(0,\"Bears\")\n",
        "ReworkList1.append(\"Bread\")\n",
        "print(len(ReworkList1))\n",
        "print(ReworkList1)\n"
      ]
    },
    {
      "cell_type": "code",
      "execution_count": 79,
      "metadata": {},
      "outputs": [
        {
          "name": "stdout",
          "output_type": "stream",
          "text": [
            "('Jack', 'Jill', 'joseph', 'Jennifer', 'Jawara')\n",
            "\n",
            " ('Jack', 'Jill', 'joseph', 'Jennifer', 'Jawara', 'Jack', 'Jill', 'joseph', 'Jennifer', 'Jawara', 'Jack', 'Jill', 'joseph', 'Jennifer', 'Jawara')\n",
            "\n",
            " joseph\n",
            "\n",
            " ['Jack', 'Jack', 'Jack', 'Jawara', 'Jawara', 'Jawara', 'Jennifer', 'Jennifer', 'Jennifer', 'Jill', 'Jill', 'Jill', 'joseph', 'joseph', 'joseph']\n",
            "\n",
            " ('Jack', 'Jill', 'joseph', 'Jennifer')\n",
            "Jack Jill\n",
            "\n",
            " 50\n",
            "\n",
            " ('Jack', 'Jill', 'joseph', 'Jennifer', 'Jawara', 'Jack', 'Jill', 'joseph', 'Jennifer', 'Jawara', 'Jack', 'Jill', 'joseph', 'Jennifer', 'Jawara', 'Jack', 'Jill', 'joseph', 'Jennifer')\n"
          ]
        }
      ],
      "source": [
        "#Tuples\n",
        "Tuple1 = ('Jack','Jill','joseph','Jennifer','Jawara')\n",
        "print(Tuple1)\n",
        "#\n",
        "Tuple2 = (Tuple1*3)\n",
        "print('\\n',Tuple2)\n",
        "#\n",
        "Tuple2[12]\n",
        "print('\\n',Tuple2[12])\n",
        "#\n",
        "print('\\n',sorted(Tuple2))\n",
        "#\n",
        "Tuple3 =('Jack', 'Jill', 'joseph', 'Jennifer')\n",
        "print('\\n', Tuple3)\n",
        "#\n",
        "a, j, l, h = Tuple3 \n",
        "print(a,j)\n",
        "#\n",
        "Tuple4 = (50)\n",
        "print('\\n', Tuple4)\n",
        "#Yay\n",
        "Tuple5 = (Tuple2 + Tuple3)\n",
        "print('\\n', Tuple5)"
      ]
    },
    {
      "cell_type": "code",
      "execution_count": 80,
      "metadata": {},
      "outputs": [
        {
          "name": "stdout",
          "output_type": "stream",
          "text": [
            "{'name': 'Jawara', 'age': '28.5', 'height': '70 inches', 'Citizen': 'True', 'Heritage': 'Caribbean'}\n",
            "\n",
            " name\n",
            "\n",
            " {'name': 'Vanterpool', 'age': '28.5', 'height': '70 inches', 'Citizen': 'True', 'Heritage': 'American'}\n",
            "\n",
            " {'name': 'Vanterpool', 'age': '28.5', 'height': '70 inches', 'Citizen': 'True', 'Heritage': 'American', 'color': 'red'}\n",
            "\n",
            " {'name': 'Vanterpool', 'age': '28.5', 'height': '70 inches', 'Citizen': 'True', 'Heritage': 'American', 'color': 'red', 'Favorites Systems': ['PS5', 'PS4', 'PS3']}\n",
            "\n",
            " dict_keys(['name', 'age', 'height', 'Citizen', 'Heritage', 'color', 'Favorites Systems'])\n",
            "\n",
            " dict_values(['Vanterpool', '28.5', '70 inches', 'True', 'American', 'red', ['PS5', 'PS4', 'PS3']])\n",
            "\n",
            " {'name': 'Jawara', 'age': '28.5', 'height': '70 inches', 'Citizen': 'True', 'Heritage': 'Caribbean', 'Favorite game': 'Pokemon', 'Favorite Systems': ['PS5', 'PS4', 'PS3']}\n",
            "\n",
            " ('Favorite Systems', ['PS5', 'PS4', 'PS3'])\n",
            "\n",
            " {}\n"
          ]
        }
      ],
      "source": [
        "#Dictionary\n",
        "Dictionary1={\n",
        "    \"name\": \"Jawara\",\n",
        "    \"age\": \"28.5\",\n",
        "    \"height\": \"70 inches\",\n",
        "    \"Citizen\": \"True\",\n",
        "    \"Heritage\": \"Caribbean\"}\n",
        "print(Dictionary1)\n",
        "#\n",
        "print(\"\\n\",list(Dictionary1)[0]) \n",
        "#\n",
        "Dictionary1.update({\"Heritage\": \"American\", \"name\": \"Vanterpool\"}) \n",
        "print(\"\\n\",Dictionary1)\n",
        "#\n",
        "Dictionary1.update({\"color\": \"red\"})\n",
        "print(\"\\n\",Dictionary1)\n",
        "#\n",
        "Dictionary1.update({\"Favorites Systems\": [\"PS5\",\"PS4\",\"PS3\"],})\n",
        "print(\"\\n\",Dictionary1)\n",
        "#\n",
        "print(\"\\n\",Dictionary1.keys()) \n",
        "#\n",
        "print(\"\\n\",Dictionary1.values()) \n",
        "#\n",
        "Dictionary2={\n",
        "    'name': 'Jawara', \n",
        "    'age': '28.5', \n",
        "    'height': '70 inches', \n",
        "    'Citizen': 'True', \n",
        "    'Heritage': 'Caribbean', \n",
        "    'Favorite game': 'Pokemon', \n",
        "    'Favorite Systems': ['PS5', 'PS4','PS3']} \n",
        "print(\"\\n\",Dictionary2)\n",
        "#\n",
        "print(\"\\n\",Dictionary2.popitem())\n",
        "#\n",
        "Dictionary2.clear()\n",
        "print(\"\\n\",Dictionary2) "
      ]
    },
    {
      "cell_type": "code",
      "execution_count": 81,
      "metadata": {},
      "outputs": [
        {
          "name": "stdout",
          "output_type": "stream",
          "text": [
            "{'milk', 'eggs', 'bacon'}\n",
            "\n",
            " {'milk', 'eggs', ('apples', 'oranges', 'kiwi'), 'bacon'}\n",
            "\n",
            " {('apples', 'oranges', 'kiwi'), 'bacon', 'honey', 'pancakes', 'milk', 'eggs', 'Hyundai', 'juice'}\n",
            "\n",
            " {'pancakes', 'honey'}\n",
            "\n",
            " set()\n",
            "\n",
            " {('apples', 'oranges', 'kiwi'), 'bacon', 'honey', 'pancakes', 'milk', 'eggs', 'Hyundai', 'juice'}\n",
            "\n",
            " {('apples', 'oranges', 'kiwi'), 'honey', 'pancakes', 'milk', 'eggs', 'Hyundai', 'juice'}\n"
          ]
        }
      ],
      "source": [
        "Set1={\"bacon\", \"eggs\", \"milk\"}\n",
        "print(Set1)\n",
        "#\n",
        "Fruit_list = ('apples','oranges', 'kiwi') \n",
        "Set1.add(Fruit_list)\n",
        "print (\"\\n\",Set1)\n",
        "#\n",
        "Set1.add(\"Hyundai\")\n",
        "Set2={\"honey\", \"pancakes\", \"juice\"} \n",
        "#\n",
        "Set3=Set1.union(Set2)\n",
        "print(\"\\n\",Set3)\n",
        "#\n",
        "Set2.pop()\n",
        "print(\"\\n\",Set2)\n",
        "#\n",
        "Set1.clear()\n",
        "print(\"\\n\",Set1)\n",
        "#\n",
        "Set3.discard(\"Kiwi\")\n",
        "print(\"\\n\",Set3)\n",
        "#\n",
        "Set3.remove(\"bacon\")\n",
        "print(\"\\n\",Set3)"
      ]
    }
  ],
  "metadata": {
    "kernelspec": {
      "display_name": "Python 3.9.2 64-bit",
      "language": "python",
      "name": "python3"
    },
    "language_info": {
      "codemirror_mode": {
        "name": "ipython",
        "version": 3
      },
      "file_extension": ".py",
      "mimetype": "text/x-python",
      "name": "python",
      "nbconvert_exporter": "python",
      "pygments_lexer": "ipython3",
      "version": "3.9.2"
    },
    "vscode": {
      "interpreter": {
        "hash": "ad668fe0c8b60db33ad75409135a6f465d3c1a1fefc3e3c995ea948148ee5407"
      }
    }
  },
  "nbformat": 4,
  "nbformat_minor": 4
}
